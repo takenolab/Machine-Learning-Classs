{
 "cells": [
  {
   "cell_type": "markdown",
   "id": "55a1bf2b",
   "metadata": {},
   "source": [
    "- Learn to implement the model $f_{w,b}$ for linear regression with one variable"
   ]
  },
  {
   "cell_type": "markdown",
   "id": "c0b6a3de",
   "metadata": {},
   "source": [
    "#### Notation\n",
    "Here is a summary of some of the notation you will encounter.  \n",
    "<br />\n",
    "𝑎 - scalar, non bold\t<br/>\n",
    "𝐚 - vector, bold\tRegression\t<br/>\t\n",
    "𝐱 \t- Training Example feature values x_train <br/>\n",
    "𝐲\t- Training Example targets \ty_train <br/>\n",
    "𝑥(𝑖),𝑦(𝑖)𝑖𝑡ℎ -  Training Example\tx_i, y_i <br/>\n",
    "m - Number of training examples\tm <br/>\n",
    "𝑤 - parameter: weight\tw <br/>\n",
    "𝑏 - parameter: bias\tb <br/>\n",
    "𝑓𝑤,𝑏(𝑥(𝑖)) - The result of the model evaluation at  𝑥(𝑖) parameterized  by  𝑤,𝑏 :  𝑓𝑤,𝑏(𝑥(𝑖))=𝑤𝑥(𝑖)+𝑏\n"
   ]
  },
  {
   "cell_type": "markdown",
   "id": "7cdbaaf5",
   "metadata": {},
   "source": [
    "#### Packages\n",
    "- Numpy for scientific computing\n",
    "- Matplotlib,for plotting data"
   ]
  },
  {
   "cell_type": "markdown",
   "id": "ac38fb7c",
   "metadata": {},
   "source": [
    "##### problem\n",
    "- A grocery store wants to predict the price\n",
    "of rice bags based on their weight. You are given \n",
    "the following dataset:"
   ]
  },
  {
   "cell_type": "code",
   "execution_count": 1,
   "id": "4911c1dd",
   "metadata": {},
   "outputs": [],
   "source": [
    "import numpy as np\n",
    "import matplotlib.pyplot as plt"
   ]
  },
  {
   "cell_type": "markdown",
   "id": "a8b49110",
   "metadata": {},
   "source": []
  }
 ],
 "metadata": {
  "kernelspec": {
   "display_name": "base",
   "language": "python",
   "name": "python3"
  },
  "language_info": {
   "codemirror_mode": {
    "name": "ipython",
    "version": 3
   },
   "file_extension": ".py",
   "mimetype": "text/x-python",
   "name": "python",
   "nbconvert_exporter": "python",
   "pygments_lexer": "ipython3",
   "version": "3.8.8"
  }
 },
 "nbformat": 4,
 "nbformat_minor": 5
}
